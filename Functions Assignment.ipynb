{
 "cells": [
  {
   "cell_type": "markdown",
   "id": "8f6147ae-7a71-42bb-af11-9af37dc4922a",
   "metadata": {},
   "source": [
    "**Q1. Which keyword is used to create a function? Create a function to return a list of odd numbers in the\n",
    "range of 1 to 25.**\n",
    "\n",
    "A1. The def() keyword is used to create functions."
   ]
  },
  {
   "cell_type": "code",
   "execution_count": 36,
   "id": "83607007-6b55-40df-9b54-02cb85c7d916",
   "metadata": {},
   "outputs": [
    {
     "data": {
      "text/plain": [
       "[1, 3, 5, 7, 9, 11, 13, 15, 17, 19, 21, 23, 25]"
      ]
     },
     "execution_count": 36,
     "metadata": {},
     "output_type": "execute_result"
    }
   ],
   "source": [
    "# A1.\n",
    "\n",
    "\n",
    "def odd_num():\n",
    "    odd_numbers = [i for i in range(1, 26) if i % 2 != 0]\n",
    "    return odd_numbers\n",
    "\n",
    "\n",
    "odd_num()"
   ]
  },
  {
   "cell_type": "markdown",
   "id": "c69da78e-e543-4857-8109-d29c51b3493d",
   "metadata": {},
   "source": [
    "__Q2. Why *args and **kwargs is used in some functions? Create a function each for *args and **kwargs to demonstrate their use.__\n",
    "\n",
    "**A2.** \n",
    "1. _*args_: This allows a function to accept any number of arguments.\n",
    "2. _*kwargs_: This allows a function to accept arguments which also have a vlaues assigned to them (Dictionary)."
   ]
  },
  {
   "cell_type": "code",
   "execution_count": 37,
   "id": "f24b5f83-f03a-43c4-9736-ebc91db985ec",
   "metadata": {},
   "outputs": [
    {
     "name": "stdout",
     "output_type": "stream",
     "text": [
      "(1, 2, 'Ammar', [1, 2, 3, 'John'])\n",
      "{'name': 'John', 'age': '25'}\n"
     ]
    }
   ],
   "source": [
    "# Example:\n",
    "\n",
    "\n",
    "def print_args(*args):\n",
    "    return args\n",
    "\n",
    "\n",
    "def print_kwargs(**kwargs):\n",
    "    return kwargs\n",
    "\n",
    "print(print_args(1,2,\"Ammar\", [1,2,3, \"John\"]))\n",
    "print(print_kwargs(name=\"John\", age=\"25\"))"
   ]
  },
  {
   "cell_type": "markdown",
   "id": "1d02d069-67ad-4cc4-a686-a1e2defb7caa",
   "metadata": {},
   "source": [
    "**Q3. What is an iterator in python? Name the method used to initialise the iterator object and the method\n",
    "used for iteration. Use these methods to print the first five elements of the given list [2, 4, 6, 8, 10, 12, 14, 16,\n",
    "18, 20].**\n",
    "\n",
    "*A3. An iterator is an object that allows iteration over a sequence of elements. It provides a way to access the elements of a collection one at a time.*"
   ]
  },
  {
   "cell_type": "code",
   "execution_count": 38,
   "id": "9f4d1e3f-680d-41ae-99a3-37b3bd132429",
   "metadata": {},
   "outputs": [
    {
     "name": "stdout",
     "output_type": "stream",
     "text": [
      "2\n",
      "4\n",
      "6\n",
      "8\n",
      "10\n"
     ]
    }
   ],
   "source": [
    "lst_1 = [2, 4, 6, 8, 10, 12, 14, 16, 18, 20]\n",
    "\n",
    "my_iter = iter(lst_1)\n",
    "\n",
    "for _ in range(5):\n",
    "    iterable = next(my_iter)\n",
    "    print(iterable)"
   ]
  },
  {
   "cell_type": "markdown",
   "id": "27271da1-557d-428e-8498-5ba8e7ef0b94",
   "metadata": {},
   "source": [
    "**Q4. What is a generator function in python? Why yield keyword is used? Give an example of a generator\n",
    "function.**\n",
    "\n",
    "*A4. A generator function in Python is a special type of function that allows you to iterate over a potentially large sequence of values without explicitly storing them in memory. The use of yield keyword allows a function to pause its execution and resume from where it left off and resume.*"
   ]
  },
  {
   "cell_type": "code",
   "execution_count": 39,
   "id": "27beb2da-186d-4943-8868-8ca0a47c9189",
   "metadata": {},
   "outputs": [
    {
     "name": "stdout",
     "output_type": "stream",
     "text": [
      "0\n",
      "1\n",
      "4\n",
      "9\n",
      "16\n"
     ]
    }
   ],
   "source": [
    "# Example:\n",
    "\n",
    "def ex_gen_func(n):\n",
    "    for i in range(n):\n",
    "        yield i**2\n",
    "\n",
    "test_var = ex_gen_func(5)\n",
    "\n",
    "for i in test_var:\n",
    "    print(i)"
   ]
  },
  {
   "cell_type": "markdown",
   "id": "4a4a374f-ad2f-41d3-94ed-c3ecd91e795b",
   "metadata": {},
   "source": [
    "**Q5. Create a generator function for prime numbers less than 1000. Use the next() method to print the\n",
    "first 20 prime numbers.**"
   ]
  },
  {
   "cell_type": "code",
   "execution_count": 40,
   "id": "5dac7cde-4951-4b9b-b1ad-6205a808d11f",
   "metadata": {},
   "outputs": [
    {
     "name": "stdout",
     "output_type": "stream",
     "text": [
      "2\n",
      "3\n",
      "5\n",
      "7\n",
      "11\n",
      "13\n",
      "17\n",
      "19\n",
      "23\n",
      "29\n",
      "31\n",
      "37\n",
      "41\n",
      "43\n",
      "47\n",
      "53\n",
      "59\n",
      "61\n",
      "67\n",
      "71\n"
     ]
    }
   ],
   "source": [
    "def prime_generator(x):\n",
    "    lst_prime = []\n",
    "    num = 2\n",
    "    while num < x:\n",
    "        is_prime = all(num % prime_num != 0 for prime_num in lst_prime)\n",
    "        if is_prime:\n",
    "            lst_prime.append(num)\n",
    "            yield num\n",
    "        num += 1\n",
    "\n",
    "prime_numbers = prime_generator(1000)\n",
    "\n",
    "for _ in range(20):\n",
    "    prime_print = next(prime_numbers)\n",
    "    print(prime_print)"
   ]
  },
  {
   "cell_type": "code",
   "execution_count": null,
   "id": "ab851e38-5ed7-45ff-b5f2-5e01305ba58d",
   "metadata": {},
   "outputs": [],
   "source": []
  },
  {
   "cell_type": "code",
   "execution_count": null,
   "id": "8a50038b-9dda-4510-8c08-b1d2947b6cfe",
   "metadata": {},
   "outputs": [],
   "source": []
  },
  {
   "cell_type": "code",
   "execution_count": null,
   "id": "69cb003b-d036-47a0-bc9f-12e8bdc8b6c9",
   "metadata": {},
   "outputs": [],
   "source": []
  },
  {
   "cell_type": "code",
   "execution_count": null,
   "id": "02ed7aad-6190-4491-92eb-63189050aecb",
   "metadata": {},
   "outputs": [],
   "source": []
  }
 ],
 "metadata": {
  "kernelspec": {
   "display_name": "Python 3 (ipykernel)",
   "language": "python",
   "name": "python3"
  },
  "language_info": {
   "codemirror_mode": {
    "name": "ipython",
    "version": 3
   },
   "file_extension": ".py",
   "mimetype": "text/x-python",
   "name": "python",
   "nbconvert_exporter": "python",
   "pygments_lexer": "ipython3",
   "version": "3.12.2"
  }
 },
 "nbformat": 4,
 "nbformat_minor": 5
}
